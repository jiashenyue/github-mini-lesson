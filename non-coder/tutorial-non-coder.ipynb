{
 "cells": [
  {
   "cell_type": "markdown",
   "id": "2d783d95",
   "metadata": {},
   "source": [
    "# GitHub Tutorial for Non-Coders"
   ]
  },
  {
   "cell_type": "markdown",
   "id": "41328acf",
   "metadata": {},
   "source": [
    "- Shenyue Jia | 11/26/2023"
   ]
  },
  {
   "cell_type": "markdown",
   "id": "78670e2b",
   "metadata": {},
   "source": [
    "## Understanding GitHub Basics"
   ]
  },
  {
   "cell_type": "markdown",
   "id": "71f780bd",
   "metadata": {},
   "source": [
    "### Version Control"
   ]
  },
  {
   "cell_type": "markdown",
   "id": "1f2beb27",
   "metadata": {},
   "source": [
    "### Repositories as Containers for Projects"
   ]
  },
  {
   "cell_type": "markdown",
   "id": "627b19f9",
   "metadata": {},
   "source": [
    "### Basic GitHub Terminology"
   ]
  },
  {
   "cell_type": "markdown",
   "id": "d6505b63",
   "metadata": {},
   "source": [
    "- Branches\n",
    "- Commits\n",
    "- Pull requests"
   ]
  },
  {
   "cell_type": "markdown",
   "id": "131f90c1",
   "metadata": {},
   "source": [
    "## In-Class Activity 1: Creating a GitHub Account"
   ]
  },
  {
   "cell_type": "markdown",
   "id": "63583a3b",
   "metadata": {},
   "source": [
    "## Document Management on GitHub"
   ]
  },
  {
   "cell_type": "markdown",
   "id": "56597e76",
   "metadata": {},
   "source": [
    "### Create a Repository"
   ]
  },
  {
   "cell_type": "markdown",
   "id": "848aff4f",
   "metadata": {},
   "source": [
    "![img](https://docs.github.com/assets/cb-34248/mw-1440/images/help/repository/repo-create-global-nav-update.webp)"
   ]
  },
  {
   "cell_type": "markdown",
   "id": "afb36a1f",
   "metadata": {},
   "source": [
    "### Uploading Documents"
   ]
  },
  {
   "cell_type": "markdown",
   "id": "e9549765",
   "metadata": {},
   "source": [
    "### Editing and Committing Changes"
   ]
  },
  {
   "cell_type": "markdown",
   "id": "6c11122d",
   "metadata": {},
   "source": [
    "### Branching for Document Versions"
   ]
  },
  {
   "cell_type": "markdown",
   "id": "4e3bffb4",
   "metadata": {},
   "source": [
    "- Contents below are adapted from [GitHub Quickstart](https://docs.github.com/en/get-started/quickstart/hello-world)\n",
    "- By default, your repository has one branch named ``main`` that is considered to be the definitive branch\n",
    "- You can create additional branches off of ``main`` in your repository\n",
    "    - For different versions of a project at one time\n",
    "- The chart below shows a journey that a branch called ``feature`` takes before it's merged into `main`\n",
    "\n",
    "![img](https://docs.github.com/assets/cb-23923/mw-1440/images/help/repository/branching.webp)"
   ]
  },
  {
   "cell_type": "markdown",
   "id": "5de76717",
   "metadata": {},
   "source": [
    "Consider creating a branch like saving to different versions of a file like this:\n",
    "\n",
    "- `result.csv`\n",
    "- `result-new.csv`\n",
    "- `result-new-new.csv`"
   ]
  },
  {
   "cell_type": "markdown",
   "id": "0e50927d",
   "metadata": {},
   "source": [
    "### Collaboration and Pull Requests"
   ]
  },
  {
   "cell_type": "markdown",
   "id": "9bbd96eb",
   "metadata": {},
   "source": [
    "## In-Class Activity 2: Learning Markdown Together"
   ]
  },
  {
   "cell_type": "markdown",
   "id": "d23ff0b9",
   "metadata": {},
   "source": [
    "### Format of Activity"
   ]
  },
  {
   "cell_type": "markdown",
   "id": "78b1aa0d",
   "metadata": {},
   "source": [
    "**Driver-Navigator Learning Group**\n",
    "\n",
    "- Blue index card with a number: **Driver** role of Team\n",
    "- Red index card with a number: **Navigator** role in Team\n",
    "- **Driver of the team**\n",
    "    - Follow directions of two navigators of your team\n",
    "    - Driver **does not** look up information; just follow directions from navigators\n",
    "- **Navigators of the team**\n",
    "    - Read the materials and provide clear directions to your driver"
   ]
  },
  {
   "cell_type": "markdown",
   "id": "1e2410be",
   "metadata": {},
   "source": [
    "**Finish the Following Tasks in Your Learning Group**"
   ]
  },
  {
   "cell_type": "markdown",
   "id": "327cfd55",
   "metadata": {},
   "source": [
    "### Syntax of Markdown"
   ]
  },
  {
   "cell_type": "markdown",
   "id": "aaa8c092",
   "metadata": {},
   "source": [
    "- Refer to the **[Basic writing and formatting syntax](https://docs.github.com/en/get-started/writing-on-github/getting-started-with-writing-and-formatting-on-github/basic-writing-and-formatting-syntax)**\n",
    "- A Markdown cheatsheet"
   ]
  },
  {
   "cell_type": "markdown",
   "id": "1579a33a",
   "metadata": {},
   "source": [
    "### Create a Tutorial on Adding CSV Files to QGIS Using Markdown"
   ]
  },
  {
   "cell_type": "code",
   "execution_count": null,
   "id": "156058db",
   "metadata": {},
   "outputs": [],
   "source": []
  }
 ],
 "metadata": {
  "kernelspec": {
   "display_name": "Python (dojo-env)",
   "language": "python",
   "name": "dojo-env"
  },
  "language_info": {
   "codemirror_mode": {
    "name": "ipython",
    "version": 3
   },
   "file_extension": ".py",
   "mimetype": "text/x-python",
   "name": "python",
   "nbconvert_exporter": "python",
   "pygments_lexer": "ipython3",
   "version": "3.9.15"
  },
  "toc": {
   "base_numbering": 1,
   "nav_menu": {},
   "number_sections": false,
   "sideBar": true,
   "skip_h1_title": false,
   "title_cell": "Table of Contents",
   "title_sidebar": "Contents",
   "toc_cell": false,
   "toc_position": {},
   "toc_section_display": true,
   "toc_window_display": false
  }
 },
 "nbformat": 4,
 "nbformat_minor": 5
}

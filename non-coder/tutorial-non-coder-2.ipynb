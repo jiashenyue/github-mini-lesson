{
 "cells": [
  {
   "cell_type": "markdown",
   "id": "ac3de7ef",
   "metadata": {},
   "source": [
    "# GitHub Tutorial for Non-Coders: 2"
   ]
  },
  {
   "cell_type": "markdown",
   "id": "f5b382d0",
   "metadata": {},
   "source": [
    "- Shenyue Jia | 11/29/2023"
   ]
  },
  {
   "cell_type": "markdown",
   "id": "5075184a",
   "metadata": {},
   "source": [
    "## Editing and Committing Changes (15 min)"
   ]
  },
  {
   "cell_type": "markdown",
   "id": "5ad4e0e7",
   "metadata": {},
   "source": [
    "- When we make changes to files and submit these changes to our GitHub repository, we are making a **commit**\n",
    "- **Git** assign each commit a unique ID (`SHA` or `hash`) that identifies:\n",
    "    - The specific changes\n",
    "    - When the changes were made\n",
    "    - Who created the changes\n",
    "- In GitHub, every time we make a **commit**, we need to provide some information on what has been changed or what kind of work does the change do when we submit our **commit**"
   ]
  },
  {
   "cell_type": "markdown",
   "id": "8ed0ce85",
   "metadata": {},
   "source": [
    "### Why We Need to Document the Commit? (10 min)"
   ]
  },
  {
   "cell_type": "markdown",
   "id": "282a523b",
   "metadata": {},
   "source": [
    "- Tracking the progress of our problem-solving\n",
    "    - We can navigate to a specific commit (that may involve changes to multiple files) by clicking the message for that commit\n",
    "\n",
    "**Find commits**\n",
    "\n",
    "![img](https://docs.github.com/assets/cb-48474/mw-1440/images/help/commits/commits-page.webp)\n",
    "\n",
    "**Check a specific commit**\n",
    "\n",
    "![img](https://docs.github.com/assets/cb-17733/mw-1440/images/help/commits/commit-message-link.webp)"
   ]
  },
  {
   "cell_type": "markdown",
   "id": "452cdab3",
   "metadata": {},
   "source": [
    "### &#128640; Your Turn: Check Your Most Recent Commit (5 min)"
   ]
  },
  {
   "cell_type": "markdown",
   "id": "dbb90963",
   "metadata": {},
   "source": [
    "- Find your most recent repository and get the following information\n",
    "    - How many commits you have made to this repo?\n",
    "    - What is the name of the most recent commit?"
   ]
  },
  {
   "cell_type": "markdown",
   "id": "af999af3",
   "metadata": {},
   "source": [
    "### &#129300; Think\n",
    "\n",
    "- What Happens If We Use the Same Summary of Commit Every Time?\n",
    "- Is it a good way to track our progress?"
   ]
  },
  {
   "cell_type": "markdown",
   "id": "9c2277bb",
   "metadata": {},
   "source": [
    "## Branching for Document Versions (40 min)"
   ]
  },
  {
   "cell_type": "markdown",
   "id": "94c896a3",
   "metadata": {},
   "source": [
    "**Why Using Branches?**\n",
    "- Creating a branch allows us to test new ideas in a safe environment without jeopardizing the original project in the repo\n",
    "- Two scenarios of using branches\n",
    "    - Creating a branch from a `main` branch of a repo **you own**\n",
    "    - Working on a project that **you do not own** by **forking** that project repo"
   ]
  },
  {
   "cell_type": "markdown",
   "id": "a60e1b54",
   "metadata": {},
   "source": [
    "### &#128640; Your Turn: Create A New Branch from `main` (10 min)"
   ]
  },
  {
   "cell_type": "markdown",
   "id": "86088748",
   "metadata": {},
   "source": [
    "#### **Fork** this repository (`tract-level-demo-oh-GAC`)\n",
    "\n",
    "![img](https://docs.github.com/assets/cb-79331/mw-1440/images/help/repository/fork-button.webp)"
   ]
  },
  {
   "cell_type": "markdown",
   "id": "9e96287d",
   "metadata": {},
   "source": [
    "#### Create A Branch from `main` of the Forked Repo"
   ]
  },
  {
   "cell_type": "markdown",
   "id": "27b0747c",
   "metadata": {},
   "source": [
    "- Create a new branch under `main` of the forked `tract-level-demo-oh-GAC` repository\n",
    "    - Name it using `YourLastName-YourFirstName`\n",
    "- Refer to [GitHub Tutorial for Branching](https://docs.github.com/en/pull-requests/collaborating-with-pull-requests/proposing-changes-to-your-work-with-pull-requests/creating-and-deleting-branches-within-your-repository)\n",
    "\n",
    "![img](https://docs.github.com/assets/cb-36155/mw-1440/images/help/repository/file-tree-view-branch-dropdown-expanded.webp)"
   ]
  },
  {
   "cell_type": "markdown",
   "id": "a18edfd1",
   "metadata": {},
   "source": [
    "## Collaboration and Pull Requests (30 min)"
   ]
  },
  {
   "cell_type": "markdown",
   "id": "6d8ccf76",
   "metadata": {},
   "source": [
    "- In a scenario of team collaboration, each contributor works in their own branch first\n",
    "- Once the work is done, we can submit a **Pull Requests**, or **PR**, to the `main` branch\n",
    "- The owner of `main` branch will decide whether to accept this **PR** or not"
   ]
  },
  {
   "cell_type": "markdown",
   "id": "6378f994",
   "metadata": {},
   "source": [
    "### &#128640; Your Turn: Make Changes to Your Branch and Submit a Pull Request"
   ]
  },
  {
   "cell_type": "markdown",
   "id": "0e973e57",
   "metadata": {},
   "source": [
    "- Copy and paste the content of the `readme.md` you created in [Tutorial #1](https://github.com/jiashenyue/github-mini-lesson/blob/main/non-coder/tutorial-non-coder-1.ipynb) to the `readme.md` of your own branch of `tract-level-demo-oh-GAC`\n",
    "- Make a commit to save the new changes\n",
    "- Creating a **pull request** so that the original repository you have forked knows\n",
    "- **Reference**\n",
    "    - [GitHub Tutorial for Creating a Pull Request from fork](https://docs.github.com/en/pull-requests/collaborating-with-pull-requests/proposing-changes-to-your-work-with-pull-requests/creating-a-pull-request-from-a-fork)\n",
    "    - [GitHub Tutorial for Pull Request](https://docs.github.com/en/pull-requests/collaborating-with-pull-requests/proposing-changes-to-your-work-with-pull-requests/creating-a-pull-request?platform=mac)"
   ]
  },
  {
   "cell_type": "markdown",
   "id": "bd436f72",
   "metadata": {},
   "source": [
    "### &#128570; Form Driver-Navigator Groups\n",
    "\n",
    "- &#128309; Blue index card with a number: **Driver** role of Team\n",
    "- &#128308; Red index card with a number: **Navigator** role in Team\n",
    "- **Driver of the team**\n",
    "    - Follow directions of two navigators of your team\n",
    "    - Driver **does not** look up information; just follow directions from navigators\n",
    "- **Navigators of the team**\n",
    "    - Read the materials and provide clear directions to your driver"
   ]
  },
  {
   "cell_type": "markdown",
   "id": "e678792d",
   "metadata": {},
   "source": [
    "## &#129300; How Branching and Pull Requests Will Be Used in Our Course Project? (5 min)"
   ]
  },
  {
   "cell_type": "markdown",
   "id": "af189703",
   "metadata": {},
   "source": [
    "**Workflow of course project**\n",
    "\n",
    "1. GAC will provide an **upstream repository** for each course project to be forked\n",
    "2. Each student forks the upstream repository and create a branch from `main`\n",
    "3. Each student works in their own branch\n",
    "4. Class showcase and vote for the best work\n",
    "5. After necessary revisions (if needed), the best work will submit a pull request and be merged to the upstream repository"
   ]
  }
 ],
 "metadata": {
  "kernelspec": {
   "display_name": "Python (dojo-env)",
   "language": "python",
   "name": "dojo-env"
  },
  "language_info": {
   "codemirror_mode": {
    "name": "ipython",
    "version": 3
   },
   "file_extension": ".py",
   "mimetype": "text/x-python",
   "name": "python",
   "nbconvert_exporter": "python",
   "pygments_lexer": "ipython3",
   "version": "3.9.15"
  },
  "toc": {
   "base_numbering": 1,
   "nav_menu": {},
   "number_sections": false,
   "sideBar": true,
   "skip_h1_title": false,
   "title_cell": "Table of Contents",
   "title_sidebar": "Contents",
   "toc_cell": false,
   "toc_position": {},
   "toc_section_display": true,
   "toc_window_display": false
  }
 },
 "nbformat": 4,
 "nbformat_minor": 5
}

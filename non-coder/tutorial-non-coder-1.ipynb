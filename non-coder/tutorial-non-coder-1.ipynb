{
 "cells": [
  {
   "cell_type": "markdown",
   "id": "2d783d95",
   "metadata": {},
   "source": [
    "# GitHub Tutorial for Non-Coders: 1"
   ]
  },
  {
   "cell_type": "markdown",
   "id": "41328acf",
   "metadata": {},
   "source": [
    "- Shenyue Jia | 11/26/2023"
   ]
  },
  {
   "cell_type": "markdown",
   "id": "78670e2b",
   "metadata": {},
   "source": [
    "## Understanding GitHub Basics (20 min)"
   ]
  },
  {
   "cell_type": "markdown",
   "id": "71f780bd",
   "metadata": {},
   "source": [
    "### Version Control"
   ]
  },
  {
   "cell_type": "markdown",
   "id": "e73e3407",
   "metadata": {},
   "source": [
    "Have you created files named in this way before?\n",
    "\n",
    "- `result.csv`\n",
    "- `result-new.csv`\n",
    "- `result-new-new.csv`"
   ]
  },
  {
   "cell_type": "markdown",
   "id": "e13563e1",
   "metadata": {},
   "source": [
    "GitHub can help you manage different versions of your project more efficiently by\n",
    "\n",
    "- Creating snapshot of your project\n",
    "- Record history of changes\n",
    "- Allow reversibility\n",
    "    - If you make a mistake or want to roll back to a previous version\n",
    "- Allow for more effective collaboration\n",
    "    - When multiple people are working on a project, it helps to keep track of who made what changes and when. This avoids conflicts and allows for seamless collaboration.\n",
    "- Branching and merging\n",
    "    - Creating a branch from the `main` project to work on new changes without affecting the `main` project until you are ready"
   ]
  },
  {
   "cell_type": "markdown",
   "id": "1f2beb27",
   "metadata": {},
   "source": [
    "### Repositories as Containers for Projects"
   ]
  },
  {
   "cell_type": "markdown",
   "id": "627b19f9",
   "metadata": {},
   "source": [
    "### Basic GitHub Terminology"
   ]
  },
  {
   "cell_type": "markdown",
   "id": "d6505b63",
   "metadata": {},
   "source": [
    "| Terminology | Description | GEO 242 Example |\n",
    "| :----------- | :----------- | :--------------- |\n",
    "| Repositories | A container of your project that holds all your files and the history of changes | A repository named `tract-demo-oh` for a project containing selected demographic metrics from 2020 census subsetted for Ohio\n",
    "| Branch | A spin-off container for your project and a place to safely experiment with new ideas | A \"spin-off\" idea of the Ohio subset project focusing on a different version of demographic metrics |\n",
    "| Commits | Each time you make a change and want to record it, like a save point in the game | You added a new folder under the repository as a container of your subsetting results |\n",
    "| Pull Requests | When you want to propose changes to a project | You just finished the \"spin-off\" branch and want to propose it for review |\n",
    "| Merge | Merge the changes back to the `main` project | Your new change to `tract-demo-oh` is approved by the owner of `tract-demo-oh` and added to the `main` branch of the project |"
   ]
  },
  {
   "cell_type": "markdown",
   "id": "131f90c1",
   "metadata": {},
   "source": [
    "## &#128640; In-Class Activity 1: Creating a GitHub Account (10 min)"
   ]
  },
  {
   "cell_type": "markdown",
   "id": "bb84fd39",
   "metadata": {},
   "source": [
    "- Use your **personal email address** to create a GitHub account\n",
    "- You can also link your MiamiOH.edu email address later and [upload your student ID](https://education.github.com/discount_requests/12743356/additional_information) to enjoy the Student Developer Pack offered by GitHub\n",
    "    - These resources include `copilot`, an generative-AI powered coding assistant \t:star:"
   ]
  },
  {
   "cell_type": "markdown",
   "id": "6495c89c-343e-4841-b0b1-0d9b1e3455f6",
   "metadata": {},
   "source": [
    "### &#128570; CAT: Red and Green Light Display"
   ]
  },
  {
   "cell_type": "markdown",
   "id": "76b3463d-4a25-4fd3-9307-72d7a6e1f644",
   "metadata": {},
   "source": [
    "- To conveniently check in on students' progress, red and green sticky notes will be distributed\n",
    "- &#128154; If students have finished the task, they put the green sticky notes on top of their screen\n",
    "- &#128308; If students need help, they put the red sticky notes on top of their screen\n",
    "- This CAT will be used in situations that require hands-on help"
   ]
  },
  {
   "cell_type": "markdown",
   "id": "63583a3b",
   "metadata": {},
   "source": [
    "## Document Management on GitHub"
   ]
  },
  {
   "cell_type": "markdown",
   "id": "56597e76",
   "metadata": {},
   "source": [
    "### Create a Repository"
   ]
  },
  {
   "cell_type": "markdown",
   "id": "848aff4f",
   "metadata": {},
   "source": [
    "![img](https://docs.github.com/assets/cb-34248/mw-1440/images/help/repository/repo-create-global-nav-update.webp)"
   ]
  },
  {
   "cell_type": "markdown",
   "id": "4d86d862-022e-4160-9690-897c52e72aa9",
   "metadata": {},
   "source": [
    "#### &#128640; Your Turn: Create Your First Repository\n",
    "\n",
    "- Create a repository named **`tract-level-demo-oh`** in your GitHub account\n",
    "    - This repository will be the container of your recent assignment of creating a subset of census-tract level of demographic metrics for the State of Ohio from the 2020 census data\n",
    "    - We are going to add a project description document and project outcome files to this repository"
   ]
  },
  {
   "cell_type": "markdown",
   "id": "afb36a1f",
   "metadata": {},
   "source": [
    "### Uploading Documents"
   ]
  },
  {
   "cell_type": "markdown",
   "id": "4381f1fe",
   "metadata": {},
   "source": [
    "- You can upload documents directly to your GitHub repository in the web version of GitHub &#128512;"
   ]
  },
  {
   "cell_type": "markdown",
   "id": "434466e0",
   "metadata": {},
   "source": [
    "#### &#128640; Your Turn: Upload the CSV Files to Your Repository\n",
    "- Use the web version of GitHub to upload the three CSV files we created last week to your newly created `tract-level-demo-oh` repository"
   ]
  },
  {
   "cell_type": "markdown",
   "id": "e9549765",
   "metadata": {},
   "source": [
    "### Editing and Committing Changes\n",
    "\n",
    "- We will explore more on this in [Tutorial #2](https://github.com/jiashenyue/github-mini-lesson/blob/main/non-coder/tutorial-non-coder-2.ipynb)\n",
    "- More information on how to commit changes using GitHub Desktop can be found in this link"
   ]
  },
  {
   "cell_type": "markdown",
   "id": "6c11122d",
   "metadata": {},
   "source": [
    "### Branching for Document Versions"
   ]
  },
  {
   "cell_type": "markdown",
   "id": "4e3bffb4",
   "metadata": {},
   "source": [
    "- *Contents below are adapted from [GitHub Quickstart](https://docs.github.com/en/get-started/quickstart/hello-world)*\n",
    "- By default, your repository has one branch named ``main`` that is considered to be the definitive branch\n",
    "- You can create additional branches off of ``main`` in your repository\n",
    "    - For different versions of a project at one time\n",
    "- The chart below shows a journey that a branch called ``feature`` takes before it's merged into `main`\n",
    "\n",
    "![img](https://docs.github.com/assets/cb-23923/mw-1440/images/help/repository/branching.webp)"
   ]
  },
  {
   "cell_type": "markdown",
   "id": "0e50927d",
   "metadata": {},
   "source": [
    "### Collaboration and Pull Requests"
   ]
  },
  {
   "cell_type": "markdown",
   "id": "34ede6c9-3f5e-44f9-8f88-7881d8075679",
   "metadata": {},
   "source": [
    "- We will explore more on this in [Tutorial #2](https://github.com/jiashenyue/github-mini-lesson/blob/main/non-coder/tutorial-non-coder-2.ipynb)\n",
    "- More information on collaboration and pull requests using GitHub Desktop can be found in this link"
   ]
  },
  {
   "cell_type": "markdown",
   "id": "9bbd96eb",
   "metadata": {},
   "source": [
    "## &#128640; In-Class Activity 2: Learning Markdown Together (40 min)"
   ]
  },
  {
   "cell_type": "markdown",
   "id": "d23ff0b9",
   "metadata": {},
   "source": [
    "### &#128570; CAT: Driver-Navigator Learning Group"
   ]
  },
  {
   "cell_type": "markdown",
   "id": "78b1aa0d",
   "metadata": {},
   "source": [
    "- &#128309; Blue index card with a number: **Driver** role of Team\n",
    "- &#128308; Red index card with a number: **Navigator** role in Team\n",
    "- **Driver of the team**\n",
    "    - Follow directions of two navigators of your team\n",
    "    - Driver **does not** look up information; just follow directions from navigators\n",
    "- **Navigators of the team**\n",
    "    - Read the materials and provide clear directions to your driver\n",
    "- **&#128293; Benefit of this group arrangement**\n",
    "  - Effectively reduce the stress of multi-tasking in class\n",
    "  - Clear role definition for boosted productivity"
   ]
  },
  {
   "cell_type": "markdown",
   "id": "1e2410be",
   "metadata": {},
   "source": [
    "### Finish the Following Tasks in Your Learning Group\n",
    "\n",
    "- Add contents to the `readme.md` file of your newly created `tract-level-demo-oh` repository\n",
    "- You can reuse the resources below\n",
    "  -  Text\n",
    "  -  Pictures"
   ]
  },
  {
   "cell_type": "markdown",
   "id": "b49fae5a",
   "metadata": {},
   "source": [
    "### &#128640; What Is Markdown and Why We Need It? (10 min)"
   ]
  },
  {
   "cell_type": "markdown",
   "id": "ea636377",
   "metadata": {},
   "source": [
    "- &#128515; Type the above title in **[ChatGPT](https://chat.openai.com/)** and see what you get\n",
    "- Talk with your peers and see if you still have follow-up questions\n",
    "  - If yes, continue asking the questions in ChatGPT"
   ]
  },
  {
   "cell_type": "markdown",
   "id": "e624c990-5c42-43dd-8441-4595bd9b8de0",
   "metadata": {},
   "source": [
    "### &#128570; CAT: Self-searching for answers"
   ]
  },
  {
   "cell_type": "markdown",
   "id": "f56dca89-d1e6-4ca6-a126-8aa9054759fd",
   "metadata": {},
   "source": [
    "- Give students a chance to search for answers that may inspire them and sharpen the use of prompts"
   ]
  },
  {
   "cell_type": "markdown",
   "id": "327cfd55",
   "metadata": {},
   "source": [
    "### &#128640; Learning Syntax of Markdown (10 min)"
   ]
  },
  {
   "cell_type": "markdown",
   "id": "aaa8c092",
   "metadata": {},
   "source": [
    "- Convert contents provided in `resource` folder to your `readme.md` document\n",
    "  - **Driver**: follow the guidance provided by navigators; do not look for information\n",
    "  - **Navigators**: read the documents provided and give clear guidance to drivers; do not work in markdown document\n",
    "- Refer to the **[Basic writing and formatting syntax](https://docs.github.com/en/get-started/writing-on-github/getting-started-with-writing-and-formatting-on-github/basic-writing-and-formatting-syntax)**\n",
    "- A [Markdown cheatsheet](https://github.com/jiashenyue/github-mini-lesson/blob/main/non-coder/markdown-cheat-sheet.md)"
   ]
  },
  {
   "cell_type": "markdown",
   "id": "afa7c9c8-73df-43d8-914d-72a15807ce3f",
   "metadata": {},
   "source": [
    "### &#128570; CAT: Self-searching for answers"
   ]
  },
  {
   "cell_type": "markdown",
   "id": "633af2f0-f015-4175-b6bd-131a97f0cfdd",
   "metadata": {},
   "source": [
    "- Give students a chance to actively learn through team work"
   ]
  },
  {
   "cell_type": "markdown",
   "id": "1579a33a",
   "metadata": {},
   "source": [
    "### &#128640; Add Contents to `readme.md` in `tract-level-demo-oh` Using Markdown (20 min)"
   ]
  },
  {
   "cell_type": "markdown",
   "id": "33dcdc7b",
   "metadata": {},
   "source": [
    "- Use contents provided under `resource` folder and follow the syntax of markdown\n",
    "  - Text\n",
    "  - Pictures\n",
    "- Your `readme.md` file in `tract-level-demo-oh` should contain\n",
    "    - A meaningful title of project; do not use `tract-level-demo-oh` as the title\n",
    "    - An **`Introduction`** section to briefly describe the purpose of creating this dataset\n",
    "    - A **`Data & Method`** section that includes\n",
    "        - At least **one link** to the original census data table with table name\n",
    "        - A formatted citation to this data table (remember to use *italic* or **bold** text to format your reference)\n",
    "        - A bullet point paragraph describing the major steps used to subset data\n",
    "    - An **`Outcome`** section that includes\n",
    "        - A table with names of metrics and meanings of metrics\n",
    "        - A picture showing the population density map provided in this link\n",
    "        - Links to CSV files in your repository"
   ]
  },
  {
   "cell_type": "markdown",
   "id": "e0f12e2b-609b-4c48-bcf4-b23e0c3f0ae1",
   "metadata": {},
   "source": [
    "## &#128187; Assignment: Finish Adding Content to Your First GitHub Repository"
   ]
  },
  {
   "cell_type": "markdown",
   "id": "0c74d444-abd4-4a17-94b8-5a88b5a27902",
   "metadata": {},
   "source": [
    "- If you are an **navigator** during in-class practice, adding contents to your `readme.md` file of your repository `tract-level-demo-oh`\n",
    "- Upload the result CSV files we created last week using QGIS to your repository if you did not finish it during class\n",
    "  - Please organize your CSV files by folders and name the files and folders appropriately\n",
    "- Make further edits to your `tract-level-demo-oh` repository to ensure it is presentable for a general audience\n",
    "  - &#129300; Ask yourself: **what kind of information needs to be included to help someone who does not know this work to understand?**"
   ]
  },
  {
   "cell_type": "markdown",
   "id": "33c2c927",
   "metadata": {},
   "source": [
    "## Reference\n",
    "\n",
    "- [GitHub Quick Start](https://docs.github.com/en/get-started/quickstart)\n",
    "- [HTML Emoji code](https://www.w3schools.com/charsets/ref_emoji_smileys.asp)"
   ]
  }
 ],
 "metadata": {
  "kernelspec": {
   "display_name": "Python 3 (ipykernel)",
   "language": "python",
   "name": "python3"
  },
  "language_info": {
   "codemirror_mode": {
    "name": "ipython",
    "version": 3
   },
   "file_extension": ".py",
   "mimetype": "text/x-python",
   "name": "python",
   "nbconvert_exporter": "python",
   "pygments_lexer": "ipython3",
   "version": "3.9.15"
  },
  "toc": {
   "base_numbering": 1,
   "nav_menu": {},
   "number_sections": false,
   "sideBar": true,
   "skip_h1_title": false,
   "title_cell": "Table of Contents",
   "title_sidebar": "Contents",
   "toc_cell": false,
   "toc_position": {},
   "toc_section_display": true,
   "toc_window_display": false
  }
 },
 "nbformat": 4,
 "nbformat_minor": 5
}

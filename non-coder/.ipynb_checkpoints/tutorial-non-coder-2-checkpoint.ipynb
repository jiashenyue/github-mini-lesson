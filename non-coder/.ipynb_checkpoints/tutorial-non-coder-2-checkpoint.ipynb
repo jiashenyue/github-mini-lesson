{
 "cells": [
  {
   "cell_type": "markdown",
   "id": "ac3de7ef",
   "metadata": {},
   "source": [
    "# GitHub Tutorial for Non-Coders: 2"
   ]
  },
  {
   "cell_type": "markdown",
   "id": "f5b382d0",
   "metadata": {},
   "source": [
    "- Shenyue Jia | 11/29/2023"
   ]
  },
  {
   "cell_type": "markdown",
   "id": "5075184a",
   "metadata": {},
   "source": [
    "## Editing and Committing Changes"
   ]
  },
  {
   "cell_type": "markdown",
   "id": "5ad4e0e7",
   "metadata": {},
   "source": [
    "- When we make changes to files and submit these changes to our GitHub repository, we are making a **commit**\n",
    "- **Git** assign each commit a unique ID (`SHA` or `hash`) that identifies:\n",
    "    - The specific changes\n",
    "    - When the changes were made\n",
    "    - Who created the changes\n",
    "- In GitHub, every time we make a **commit**, we need to provide some information on what has been changed or what kind of work does the change do when we submit our **commit**"
   ]
  },
  {
   "cell_type": "markdown",
   "id": "8ed0ce85",
   "metadata": {},
   "source": [
    "### Why We Need to Document the Commit?"
   ]
  },
  {
   "attachments": {},
   "cell_type": "markdown",
   "id": "282a523b",
   "metadata": {},
   "source": [
    "- Tracking the progress of our problem-solving\n",
    "    - We can navigate to a specific commit (that may involve changes to multiple files) by clicking the message for that commit\n",
    "\n",
    "**Find commits**\n",
    "\n",
    "![img](https://docs.github.com/assets/cb-48474/mw-1440/images/help/commits/commits-page.webp)\n",
    "\n",
    "**Check a specific commit**\n",
    "\n",
    "![img](https://docs.github.com/assets/cb-17733/mw-1440/images/help/commits/commit-message-link.webp)"
   ]
  },
  {
   "cell_type": "markdown",
   "id": "452cdab3",
   "metadata": {},
   "source": [
    "### &#128640; Your Turn: Check Your Most Recent Commit"
   ]
  },
  {
   "cell_type": "markdown",
   "id": "dbb90963",
   "metadata": {},
   "source": [
    "- Find your most recent repository and get the following information\n",
    "    - How many commits you have made to this repo?\n",
    "    - What is the name of the most recent commit?"
   ]
  },
  {
   "cell_type": "markdown",
   "id": "af999af3",
   "metadata": {},
   "source": [
    "### &#129300; Think\n",
    "\n",
    "- What Happens If We Use the Same Summary of Commit Every Time?\n",
    "- Is it a good way to track our progress?"
   ]
  },
  {
   "cell_type": "markdown",
   "id": "9c2277bb",
   "metadata": {},
   "source": [
    "## Branching for Document Versions"
   ]
  },
  {
   "cell_type": "markdown",
   "id": "94c896a3",
   "metadata": {},
   "source": [
    "- Creating a branch allows us to test new ideas in a safe environment without jeopardizing the original project in the repo"
   ]
  },
  {
   "cell_type": "markdown",
   "id": "a60e1b54",
   "metadata": {},
   "source": [
    "### &#128640; Your Turn: Create A New Branch from `main`"
   ]
  },
  {
   "cell_type": "markdown",
   "id": "86088748",
   "metadata": {},
   "source": [
    "- **Fork** this repository (`tract-level-demo-oh-GAC`)\n",
    "\n",
    "![img](https://docs.github.com/assets/cb-79331/mw-1440/images/help/repository/fork-button.webp)"
   ]
  },
  {
   "cell_type": "markdown",
   "id": "9e96287d",
   "metadata": {},
   "source": [
    "- We will create our own version of this forked repository as a **branch**"
   ]
  },
  {
   "cell_type": "markdown",
   "id": "27b0747c",
   "metadata": {},
   "source": [
    "- Create a new branch under `main` of the forked `tract-level-demo-oh-GAC` repository\n",
    "    - Name it using `YourLastName-YourFirstName`\n",
    "\n",
    "![img](https://docs.github.com/assets/cb-36155/mw-1440/images/help/repository/file-tree-view-branch-dropdown-expanded.webp)"
   ]
  },
  {
   "cell_type": "markdown",
   "id": "a18edfd1",
   "metadata": {},
   "source": [
    "## Collaboration and Pull Requests"
   ]
  },
  {
   "cell_type": "markdown",
   "id": "6d8ccf76",
   "metadata": {},
   "source": [
    "- In a scenario of team collaboration, each contributor works in their own branch first\n",
    "- Once the work is done, we can submit a **Pull Requests**, or **PR**, to the `main` branch\n",
    "- The owner of `main` branch will decide whether to accept this **PR** or not"
   ]
  },
  {
   "cell_type": "markdown",
   "id": "6378f994",
   "metadata": {},
   "source": [
    "### &#128640; Your Turn: Make Changes to Your Branch and Submit a Pull Request"
   ]
  },
  {
   "cell_type": "markdown",
   "id": "0e973e57",
   "metadata": {},
   "source": [
    "- Copy and paste the content of the `readme.md` you created in Tutorial #1 to the `readme.md` of your own branch of `tract-level-demo-oh-GAC`"
   ]
  }
 ],
 "metadata": {
  "kernelspec": {
   "display_name": "Python (dojo-env)",
   "language": "python",
   "name": "dojo-env"
  },
  "language_info": {
   "codemirror_mode": {
    "name": "ipython",
    "version": 3
   },
   "file_extension": ".py",
   "mimetype": "text/x-python",
   "name": "python",
   "nbconvert_exporter": "python",
   "pygments_lexer": "ipython3",
   "version": "3.9.15"
  },
  "toc": {
   "base_numbering": 1,
   "nav_menu": {},
   "number_sections": false,
   "sideBar": true,
   "skip_h1_title": false,
   "title_cell": "Table of Contents",
   "title_sidebar": "Contents",
   "toc_cell": false,
   "toc_position": {},
   "toc_section_display": true,
   "toc_window_display": false
  }
 },
 "nbformat": 4,
 "nbformat_minor": 5
}
